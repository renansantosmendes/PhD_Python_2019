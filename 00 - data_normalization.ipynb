{
 "cells": [
  {
   "cell_type": "code",
   "execution_count": 6,
   "metadata": {},
   "outputs": [],
   "source": [
    "import pandas as pd\n",
    "import numpy as np"
   ]
  },
  {
   "cell_type": "code",
   "execution_count": 26,
   "metadata": {},
   "outputs": [],
   "source": [
    "path = '/home/renansantos/Área de Trabalho/Resultados/R2/'\n",
    "new_file = 'moead_pareto_hv_full.txt'\n",
    "\n",
    "texto = []\n",
    "\n",
    "for i in range(30):\n",
    "    file_name = 'moead-execution-'+str(i) + '.txt'\n",
    "    texto.append('#\\n')\n",
    "    with open(path+file_name) as file:\n",
    "        for line in file:\n",
    "            texto.append(file.readline().replace(',','\\t'))\n",
    "\n",
    "texto.append('#')\n",
    "    \n",
    "arq = open(path+new_file, 'w')\n",
    "arq.writelines(texto)\n",
    "arq.close()"
   ]
  },
  {
   "cell_type": "code",
   "execution_count": 27,
   "metadata": {},
   "outputs": [],
   "source": [
    "reference_point = np.array([200000, 1000, 500, 0.000001, 50, 2000, 500, 2000, 1])"
   ]
  },
  {
   "cell_type": "code",
   "execution_count": 29,
   "metadata": {},
   "outputs": [],
   "source": [
    "texto = []\n",
    "algoritmo = 'moead'\n",
    "with open(path + algoritmo + '_pareto_hv_full.txt') as file:\n",
    "    counter = 0\n",
    "    for line in file:\n",
    "        try:\n",
    "            new_line = np.array([float(number) for number in line.split()])\n",
    "            norm_data = new_line/reference_point\n",
    "            string = ''\n",
    "            c=0\n",
    "            for i in norm_data:\n",
    "                if c != 3: \n",
    "                    string = string + str(i) + ' '\n",
    "                c = c + 1 \n",
    "            texto.append(string.strip() + '\\n')\n",
    "            counter = counter + 1\n",
    "        except:\n",
    "            texto.append('#\\n')\n",
    "            counter = 0\n",
    "            \n",
    "arq = open(path + algoritmo + '_pareto_hv_norm.txt', 'w')\n",
    "arq.writelines(texto)\n",
    "arq.close()"
   ]
  },
  {
   "cell_type": "markdown",
   "metadata": {},
   "source": [
    "## Executing in one run"
   ]
  },
  {
   "cell_type": "code",
   "execution_count": 35,
   "metadata": {},
   "outputs": [],
   "source": [
    "path = '/home/renansantos/Área de Trabalho/Resultados/R8/'\n",
    "new_file = 'moead_pareto_hv_full.txt'\n",
    "\n",
    "texto = []\n",
    "\n",
    "for i in range(30):\n",
    "    file_name = 'moead-execution-'+str(i) + '.txt'\n",
    "    texto.append('#\\n')\n",
    "    with open(path+file_name) as file:\n",
    "        for line in file:\n",
    "            texto.append(file.readline().replace(',','\\t'))\n",
    "\n",
    "texto.append('#')\n",
    "    \n",
    "arq = open(path+new_file, 'w')\n",
    "arq.writelines(texto)\n",
    "arq.close()\n",
    "\n",
    "reference_point = np.array([200000, 1000, 500, 0.000001, 50, 2000, 500, 2000, 1])\n",
    "\n",
    "texto = []\n",
    "algoritmo = 'moead'\n",
    "with open(path + algoritmo + '_pareto_hv_full.txt') as file:\n",
    "    counter = 0\n",
    "    for line in file:\n",
    "        try:\n",
    "            new_line = np.array([float(number) for number in line.split()])\n",
    "            norm_data = new_line/reference_point\n",
    "            string = ''\n",
    "            c=0\n",
    "            for i in norm_data:\n",
    "                if c != 3: \n",
    "                    string = string + str(i) + ' '\n",
    "                c = c + 1 \n",
    "            texto.append(string.strip() + '\\n')\n",
    "            counter = counter + 1\n",
    "        except:\n",
    "            texto.append('#\\n')\n",
    "            counter = 0\n",
    "            \n",
    "arq = open(path + algoritmo + '_pareto_hv_norm.txt', 'w')\n",
    "arq.writelines(texto)\n",
    "arq.close()"
   ]
  },
  {
   "cell_type": "code",
   "execution_count": null,
   "metadata": {},
   "outputs": [],
   "source": []
  }
 ],
 "metadata": {
  "kernelspec": {
   "display_name": "Python 3",
   "language": "python",
   "name": "python3"
  },
  "language_info": {
   "codemirror_mode": {
    "name": "ipython",
    "version": 3
   },
   "file_extension": ".py",
   "mimetype": "text/x-python",
   "name": "python",
   "nbconvert_exporter": "python",
   "pygments_lexer": "ipython3",
   "version": "3.4.3"
  }
 },
 "nbformat": 4,
 "nbformat_minor": 2
}
