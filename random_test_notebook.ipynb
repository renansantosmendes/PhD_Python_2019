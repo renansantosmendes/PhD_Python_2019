{
 "cells": [
  {
   "cell_type": "code",
   "execution_count": 55,
   "metadata": {},
   "outputs": [],
   "source": [
    "import numpy as np\n",
    "import pandas as pd\n",
    "import matplotlib.pyplot as plt\n",
    "%matplotlib inline"
   ]
  },
  {
   "cell_type": "code",
   "execution_count": 136,
   "metadata": {},
   "outputs": [],
   "source": [
    "def get_hv(file_name):\n",
    "    with open(file_name) as file:\n",
    "        hv = []\n",
    "        \n",
    "        for line in file:\n",
    "            hv.append(float(line))\n",
    "            \n",
    "    return pd.DataFrame(data=hv, columns=['HV'])\n",
    "\n",
    "def random_test(df1, df2, plot_hist = True):\n",
    "    DORAND = 5000\n",
    "    \n",
    "    spread2 = df2.values\n",
    "    spread1 = df1.values\n",
    "    \n",
    "    medianSpreadDiff = np.median(spread2) - np.median(spread1)\n",
    "    meanSpreadDiff = np.mean(spread2) - np.mean(spread1)\n",
    "    \n",
    "    totalSpread = np.append(spread1.tolist(), spread2.tolist())\n",
    "    \n",
    "    randMedianSpreadDiff = np.nan * np.ones((DORAND,1))\n",
    "    randMeanSpreadDiff = np.nan * np.ones((DORAND,1))\n",
    "    \n",
    "    for randPool in range(0, DORAND-1):\n",
    "        new1Index = np.random.permutation(30)\n",
    "        newSpread1 = totalSpread[new1Index[0:15]]\n",
    "        newSpread2 = totalSpread[new1Index[15:30]]\n",
    "        \n",
    "        randMedianSpreadDiff[randPool] = np.median(newSpread2) - np.median(newSpread1)\n",
    "        randMeanSpreadDiff[randPool] = np.mean(newSpread2) - np.mean(newSpread1)\n",
    "        \n",
    "    randMedianSpreadDiff[DORAND - 1] = medianSpreadDiff\n",
    "    randMeanSpreadDiff[DORAND - 1] = meanSpreadDiff\n",
    "    \n",
    "    z = (meanSpreadDiff - np.mean(randMeanSpreadDiff) )/ np.std(randMeanSpreadDiff)\n",
    "        \n",
    "    limiar = 1.96 * np.std(randMeanSpreadDiff) + np.mean(randMeanSpreadDiff)\n",
    "    \n",
    "    if z <= -1.96:\n",
    "        print('H1-')\n",
    "    elif z >= 1.96:\n",
    "        print('H1+')\n",
    "    else:\n",
    "        print('H0')\n",
    "    print(limiar)\n",
    "    print(z)\n",
    "    \n",
    "    if plot_hist:\n",
    "        plt.figure(figsize=(9,6))\n",
    "        plt.hist(randMeanSpreadDiff,bins=100,color='gray', label='Distribution')\n",
    "        plt.scatter(x=z,y=0,color='red',label='Observed Mean Difference')\n",
    "        plt.scatter(x=limiar,y=0,color='black',label='Confidence Limiars (95%)')\n",
    "        plt.scatter(x=-limiar,y=0,color='black')\n",
    "        plt.xticks(fontsize=(20))\n",
    "        plt.yticks(fontsize=(18))\n",
    "        plt.legend()\n",
    "        plt.show()"
   ]
  },
  {
   "cell_type": "code",
   "execution_count": 137,
   "metadata": {},
   "outputs": [],
   "source": [
    "nsga = get_hv('nsga_hv_values_norm.txt')\n",
    "moead = get_hv('nsga_hv_values_norm.txt')"
   ]
  },
  {
   "cell_type": "code",
   "execution_count": 138,
   "metadata": {},
   "outputs": [
    {
     "name": "stdout",
     "output_type": "stream",
     "text": [
      "H0\n",
      "0.00666005432843\n",
      "0.0123702257366\n"
     ]
    },
    {
     "data": {
      "image/png": "[encoded data removed]",
      "text/plain": [
       "<Figure size 648x432 with 1 Axes>"
      ]
     },
     "metadata": {},
     "output_type": "display_data"
    }
   ],
   "source": [
    "random_test(nsga, moead, True)"
   ]
  },
  {
   "cell_type": "code",
   "execution_count": null,
   "metadata": {},
   "outputs": [],
   "source": []
  }
 ],
 "metadata": {
  "kernelspec": {
   "display_name": "Python 3",
   "language": "python",
   "name": "python3"
  },
  "language_info": {
   "codemirror_mode": {
    "name": "ipython",
    "version": 3
   },
   "file_extension": ".py",
   "mimetype": "text/x-python",
   "name": "python",
   "nbconvert_exporter": "python",
   "pygments_lexer": "ipython3",
   "version": "3.4.3"
  }
 },
 "nbformat": 4,
 "nbformat_minor": 2
}
