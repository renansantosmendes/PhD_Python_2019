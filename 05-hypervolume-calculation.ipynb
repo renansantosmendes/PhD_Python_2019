{
 "cells": [
  {
   "cell_type": "code",
   "execution_count": 63,
   "metadata": {},
   "outputs": [],
   "source": [
    "from pygmo import hypervolume\n",
    "import pygmo as pg\n",
    "import pandas as pd\n",
    "import numpy as np\n",
    "import matplotlib.pyplot as plt\n",
    "\n",
    "%matplotlib inline"
   ]
  },
  {
   "cell_type": "code",
   "execution_count": 2,
   "metadata": {},
   "outputs": [
    {
     "data": {
      "text/plain": [
       "True"
      ]
     },
     "execution_count": 2,
     "metadata": {},
     "output_type": "execute_result"
    }
   ],
   "source": [
    "'hypervolume' in dir()"
   ]
  },
  {
   "cell_type": "code",
   "execution_count": 9,
   "metadata": {},
   "outputs": [],
   "source": [
    "udp = pg.problem(pg.dtlz(prob_id = 2, dim = 10, fdim = 2))"
   ]
  },
  {
   "cell_type": "code",
   "execution_count": 10,
   "metadata": {},
   "outputs": [],
   "source": [
    "pop = pg.population(udp, 50)"
   ]
  },
  {
   "cell_type": "code",
   "execution_count": 11,
   "metadata": {},
   "outputs": [
    {
     "data": {
      "text/plain": [
       "<pygmo.core.hypervolume at 0x7fe09307f4a8>"
      ]
     },
     "execution_count": 11,
     "metadata": {},
     "output_type": "execute_result"
    }
   ],
   "source": [
    "hv = hypervolume(pop)\n",
    "hv"
   ]
  },
  {
   "cell_type": "code",
   "execution_count": 39,
   "metadata": {},
   "outputs": [
    {
     "data": {
      "text/plain": [
       "20.0"
      ]
     },
     "execution_count": 39,
     "metadata": {},
     "output_type": "execute_result"
    }
   ],
   "source": [
    "ref_point = [2,2,2,2,2]\n",
    "hv = hypervolume([[1, 0, 0, 0, 1], [0, 1, 0, 0, 2],[0, 0, 1, 0, 0]] )\n",
    "hv.compute(ref_point)"
   ]
  },
  {
   "cell_type": "code",
   "execution_count": 16,
   "metadata": {},
   "outputs": [
    {
     "data": {
      "text/plain": [
       "120.0"
      ]
     },
     "execution_count": 16,
     "metadata": {},
     "output_type": "execute_result"
    }
   ],
   "source": []
  },
  {
   "cell_type": "code",
   "execution_count": 49,
   "metadata": {},
   "outputs": [],
   "source": [
    "def read_solutions(file):\n",
    "\n",
    "    points = []\n",
    "    with open(file) as file:\n",
    "        for line in file:\n",
    "            point = []\n",
    "            splitted_line = line.replace('\\n','').split(',')\n",
    "            try:\n",
    "                x = float(splitted_line[0])\n",
    "                y = float(splitted_line[1])\n",
    "            except:\n",
    "                pass\n",
    "\n",
    "            point.append(x)\n",
    "            point.append(y)\n",
    "            points.append(point)\n",
    "            \n",
    "    return points"
   ]
  },
  {
   "cell_type": "code",
   "execution_count": 75,
   "metadata": {},
   "outputs": [
    {
     "name": "stdout",
     "output_type": "stream",
     "text": [
      "execution  0\n",
      "execution  1\n",
      "execution  2\n",
      "execution  3\n",
      "execution  4\n",
      "execution  5\n",
      "execution  6\n",
      "execution  7\n",
      "execution  8\n",
      "execution  9\n",
      "execution  10\n",
      "execution  11\n",
      "execution  12\n",
      "execution  13\n",
      "execution  14\n"
     ]
    }
   ],
   "source": [
    "evaluations = 200000\n",
    "executions = 15\n",
    "step = 5000\n",
    "problem = 'DTLZ1_2'\n",
    "ref_point = [51,51]\n",
    "path = '/home/renansantos/NetBeansProjects/PhD_MOEAD/Results/'\n",
    "file_path = path + 'DTLZ1-2' + '/'\n",
    "\n",
    "df = pd.DataFrame(data=None)\n",
    "\n",
    "for i in range(executions):\n",
    "    print('execution ',i)\n",
    "    exec_hv = []\n",
    "    for j in np.arange(step,evaluations,step):\n",
    "        name = problem + '-' + str(i) + '-' + str(j) + '-solutions.csv'\n",
    "        hv = hypervolume(read_solutions(file_path + name))\n",
    "        exec_hv.append(hv.compute(ref_point))\n",
    "    df[i] = exec_hv"
   ]
  },
  {
   "cell_type": "code",
   "execution_count": 76,
   "metadata": {},
   "outputs": [
    {
     "data": {
      "text/plain": [
       "<matplotlib.axes._subplots.AxesSubplot at 0x7fe085718400>"
      ]
     },
     "execution_count": 76,
     "metadata": {},
     "output_type": "execute_result"
    },
    {
     "data": {
      "image/png": "[encoded data removed]",
      "text/plain": [
       "<Figure size 432x288 with 1 Axes>"
      ]
     },
     "metadata": {},
     "output_type": "display_data"
    }
   ],
   "source": [
    "df.mean(axis=1).plot()"
   ]
  },
  {
   "cell_type": "code",
   "execution_count": null,
   "metadata": {},
   "outputs": [],
   "source": []
  }
 ],
 "metadata": {
  "kernelspec": {
   "display_name": "Python 3",
   "language": "python",
   "name": "python3"
  },
  "language_info": {
   "codemirror_mode": {
    "name": "ipython",
    "version": 3
   },
   "file_extension": ".py",
   "mimetype": "text/x-python",
   "name": "python",
   "nbconvert_exporter": "python",
   "pygments_lexer": "ipython3",
   "version": "3.4.3"
  }
 },
 "nbformat": 4,
 "nbformat_minor": 2
}
