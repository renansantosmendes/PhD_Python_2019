{
 "cells": [
  {
   "cell_type": "code",
   "execution_count": 1,
   "metadata": {},
   "outputs": [],
   "source": [
    "from pygmo import hypervolume\n",
    "import pygmo as pg\n",
    "import pandas as pd\n",
    "import numpy as np\n",
    "import matplotlib.pyplot as plt\n",
    "\n",
    "%matplotlib inline"
   ]
  },
  {
   "cell_type": "code",
   "execution_count": 2,
   "metadata": {},
   "outputs": [
    {
     "data": {
      "text/plain": [
       "True"
      ]
     },
     "execution_count": 2,
     "metadata": {},
     "output_type": "execute_result"
    }
   ],
   "source": [
    "'hypervolume' in dir()"
   ]
  },
  {
   "cell_type": "code",
   "execution_count": 9,
   "metadata": {},
   "outputs": [],
   "source": [
    "udp = pg.problem(pg.dtlz(prob_id = 2, dim = 10, fdim = 2))"
   ]
  },
  {
   "cell_type": "code",
   "execution_count": 10,
   "metadata": {},
   "outputs": [],
   "source": [
    "pop = pg.population(udp, 50)"
   ]
  },
  {
   "cell_type": "code",
   "execution_count": 11,
   "metadata": {},
   "outputs": [
    {
     "data": {
      "text/plain": [
       "<pygmo.core.hypervolume at 0x7fe09307f4a8>"
      ]
     },
     "execution_count": 11,
     "metadata": {},
     "output_type": "execute_result"
    }
   ],
   "source": [
    "hv = hypervolume(pop)\n",
    "hv"
   ]
  },
  {
   "cell_type": "code",
   "execution_count": 39,
   "metadata": {},
   "outputs": [
    {
     "data": {
      "text/plain": [
       "20.0"
      ]
     },
     "execution_count": 39,
     "metadata": {},
     "output_type": "execute_result"
    }
   ],
   "source": [
    "ref_point = [2,2,2,2,2]\n",
    "hv = hypervolume([[1, 0, 0, 0, 1], [0, 1, 0, 0, 2],[0, 0, 1, 0, 0]] )\n",
    "hv.compute(ref_point)"
   ]
  },
  {
   "cell_type": "code",
   "execution_count": 16,
   "metadata": {},
   "outputs": [
    {
     "data": {
      "text/plain": [
       "120.0"
      ]
     },
     "execution_count": 16,
     "metadata": {},
     "output_type": "execute_result"
    }
   ],
   "source": []
  },
  {
   "cell_type": "code",
   "execution_count": 21,
   "metadata": {},
   "outputs": [],
   "source": [
    "def read_solutions(file):\n",
    "\n",
    "    points = []\n",
    "    with open(file) as file:\n",
    "        for line in file:\n",
    "            point = []\n",
    "            splitted_line = line.replace('\\n','').replace('[','').replace(']','').split(',')\n",
    "            try:\n",
    "                x = float(splitted_line[0])\n",
    "                y = float(splitted_line[1])\n",
    "                z = float(splitted_line[2])\n",
    "                w = float(splitted_line[3])\n",
    "                t = float(splitted_line[4])\n",
    "                point.append(x)\n",
    "                point.append(y)\n",
    "                point.append(z)\n",
    "                point.append(w)\n",
    "                point.append(t)\n",
    "                points.append(point)\n",
    "            except:\n",
    "                pass\n",
    "\n",
    "            \n",
    "            \n",
    "    return points"
   ]
  },
  {
   "cell_type": "code",
   "execution_count": 36,
   "metadata": {},
   "outputs": [
    {
     "name": "stdout",
     "output_type": "stream",
     "text": [
      "execution  0\n",
      "execution  1\n",
      "execution  2\n",
      "execution  3\n",
      "execution  4\n",
      "execution  5\n",
      "execution  6\n",
      "execution  7\n",
      "execution  8\n",
      "execution  9\n",
      "execution  10\n",
      "execution  11\n",
      "execution  12\n",
      "execution  13\n",
      "execution  14\n",
      "execution  15\n",
      "execution  16\n",
      "execution  17\n",
      "execution  18\n",
      "execution  19\n",
      "execution  20\n",
      "execution  21\n",
      "execution  22\n",
      "execution  23\n",
      "execution  24\n",
      "execution  25\n",
      "execution  26\n",
      "execution  27\n",
      "execution  28\n",
      "execution  29\n"
     ]
    }
   ],
   "source": [
    "evaluations = 200000\n",
    "executions = 30\n",
    "step = 5000\n",
    "problem = 'AggDTLZ5_5'\n",
    "ref_point = [3,3,3,3,3]\n",
    "path = '/home/renansantos/NetBeansProjects/PhD_MOEAD/Results/'\n",
    "file_path = path + 'AggDTLZ5-5' + '/'\n",
    "\n",
    "df1 = pd.DataFrame(data=None)\n",
    "\n",
    "for i in range(executions):\n",
    "    print('execution ',i)\n",
    "    exec_hv = []\n",
    "    for j in np.arange(step,evaluations,step):\n",
    "        name = problem + '-' + str(i) + '-' + str(j) + '-solutions.csv'\n",
    "        solutions = read_solutions(file_path + name)\n",
    "        hv = hypervolume(solutions)\n",
    "        exec_hv.append(hv.compute(ref_point))\n",
    "    df1[i] = exec_hv"
   ]
  },
  {
   "cell_type": "code",
   "execution_count": 37,
   "metadata": {},
   "outputs": [
    {
     "data": {
      "text/plain": [
       "<matplotlib.axes._subplots.AxesSubplot at 0x7fed9f68eb38>"
      ]
     },
     "execution_count": 37,
     "metadata": {},
     "output_type": "execute_result"
    },
    {
     "data": {
      "image/png": "[encoded data removed]",
      "text/plain": [
       "<Figure size 432x288 with 1 Axes>"
      ]
     },
     "metadata": {},
     "output_type": "display_data"
    }
   ],
   "source": [
    "df1.mean(axis=1).plot()"
   ]
  },
  {
   "cell_type": "code",
   "execution_count": 49,
   "metadata": {},
   "outputs": [
    {
     "name": "stdout",
     "output_type": "stream",
     "text": [
      "execution  0\n",
      "execution  1\n",
      "execution  2\n",
      "execution  3\n",
      "execution  4\n",
      "execution  5\n",
      "execution  6\n",
      "execution  7\n",
      "execution  8\n",
      "execution  9\n",
      "execution  10\n",
      "execution  11\n",
      "execution  12\n",
      "execution  13\n",
      "execution  14\n",
      "execution  15\n",
      "execution  16\n",
      "execution  17\n",
      "execution  18\n",
      "execution  19\n",
      "execution  20\n",
      "execution  21\n",
      "execution  22\n",
      "execution  23\n",
      "execution  24\n",
      "execution  25\n",
      "execution  26\n",
      "execution  27\n",
      "execution  28\n",
      "execution  29\n"
     ]
    }
   ],
   "source": [
    "evaluations = 200000\n",
    "executions = 30\n",
    "step = 5000\n",
    "problem = 'DTLZ5_5'\n",
    "ref_point = [3,3,3,3,3]\n",
    "path = '/home/renansantos/NetBeansProjects/PhD_MOEAD/Results/'\n",
    "file_path = path + 'DTLZ5-5' + '/'\n",
    "\n",
    "df2 = pd.DataFrame(data=None)\n",
    "\n",
    "for i in range(executions):\n",
    "    print('execution ',i)\n",
    "    exec_hv = []\n",
    "    for j in np.arange(step,evaluations,step):\n",
    "        name = problem + '-' + str(i) + '-' + str(j) + '-solutions.csv'\n",
    "        solutions = read_solutions(file_path + name)\n",
    "        hv = hypervolume(solutions)\n",
    "        exec_hv.append(hv.compute(ref_point))\n",
    "    df2[i] = exec_hv"
   ]
  },
  {
   "cell_type": "code",
   "execution_count": 50,
   "metadata": {},
   "outputs": [
    {
     "data": {
      "text/plain": [
       "<matplotlib.axes._subplots.AxesSubplot at 0x7fed9f4f4208>"
      ]
     },
     "execution_count": 50,
     "metadata": {},
     "output_type": "execute_result"
    },
    {
     "data": {
      "image/png": "[encoded data removed]",
      "text/plain": [
       "<Figure size 432x288 with 1 Axes>"
      ]
     },
     "metadata": {},
     "output_type": "display_data"
    }
   ],
   "source": [
    "df2.mean(axis=1).plot()"
   ]
  },
  {
   "cell_type": "code",
   "execution_count": 51,
   "metadata": {},
   "outputs": [
    {
     "data": {
      "image/png": "[encoded data removed]",
      "text/plain": [
       "<Figure size 576x432 with 1 Axes>"
      ]
     },
     "metadata": {},
     "output_type": "display_data"
    }
   ],
   "source": [
    "plt.figure(figsize=(8,6))\n",
    "plt.plot(df2.mean(axis=1), label='DTLZ5-5')\n",
    "plt.plot(df1.mean(axis=1), label='AggDTLZ5-5')\n",
    "plt.legend()\n",
    "plt.show()"
   ]
  },
  {
   "cell_type": "markdown",
   "metadata": {},
   "source": [
    "### First implementation of Wilcoxon Test"
   ]
  },
  {
   "cell_type": "code",
   "execution_count": 75,
   "metadata": {},
   "outputs": [],
   "source": [
    "last_hv = df1.shape[0] - 1\n",
    "ndf1 = df1.loc[last_hv].values\n",
    "ndf2 = df2.loc[last_hv].values\n",
    "diff = ndf2 - ndf1\n",
    "rank = [i + 1 for i in range(len(diff))]"
   ]
  },
  {
   "cell_type": "code",
   "execution_count": 79,
   "metadata": {},
   "outputs": [],
   "source": [
    "wilcoxon = pd.DataFrame(data = [sorted(diff), rank]).T\n",
    "wilcoxon.columns = 'Diff Rank'.split()"
   ]
  },
  {
   "cell_type": "code",
   "execution_count": 82,
   "metadata": {},
   "outputs": [
    {
     "data": {
      "text/plain": [
       "465.0"
      ]
     },
     "execution_count": 82,
     "metadata": {},
     "output_type": "execute_result"
    }
   ],
   "source": [
    "wilcoxon[wilcoxon['Diff'] > 0]['Rank'].sum()"
   ]
  },
  {
   "cell_type": "code",
   "execution_count": null,
   "metadata": {},
   "outputs": [],
   "source": []
  }
 ],
 "metadata": {
  "kernelspec": {
   "display_name": "Python 3",
   "language": "python",
   "name": "python3"
  },
  "language_info": {
   "codemirror_mode": {
    "name": "ipython",
    "version": 3
   },
   "file_extension": ".py",
   "mimetype": "text/x-python",
   "name": "python",
   "nbconvert_exporter": "python",
   "pygments_lexer": "ipython3",
   "version": "3.4.3"
  }
 },
 "nbformat": 4,
 "nbformat_minor": 2
}
