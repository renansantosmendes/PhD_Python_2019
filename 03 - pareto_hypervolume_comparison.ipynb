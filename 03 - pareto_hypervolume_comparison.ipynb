{
 "cells": [
  {
   "cell_type": "markdown",
   "metadata": {},
   "source": [
    "# Experiments hypervolume (using WFG algorithm) evalutaion for MOEAD algorithm in Many-Objective Optimization\n",
    "\n",
    "- Author: Renan Santos\n",
    "- Email: renansantosmendes@gmail.com"
   ]
  },
  {
   "cell_type": "markdown",
   "metadata": {},
   "source": [
    "### Importing main libs"
   ]
  },
  {
   "cell_type": "code",
   "execution_count": 13,
   "metadata": {},
   "outputs": [],
   "source": [
    "import pandas as pd\n",
    "import numpy as np\n",
    "import matplotlib.pyplot as plt\n",
    "%matplotlib inline"
   ]
  },
  {
   "cell_type": "markdown",
   "metadata": {},
   "source": [
    "### Experiments description\n",
    "\n",
    "- E1: $\\mathbf{R}^2$ considering just the clustered objectives and discarting the objectives considered as noise by the DBSCAN algorithm\n",
    "\n",
    "$F_1 = \\lambda_3 f_3 + \\lambda_8 f_8$\n",
    "\n",
    "$F_2 = \\lambda_2 f_2 + \\lambda_5 f_5$\n",
    "\n",
    "- E2: $\\mathbf{R}^3$ considering the elbow method to select the number of clusters and then using the K-Means algorithm to cluster the functions\n",
    "\n",
    "$F_1 = \\lambda_1 f_1 + \\lambda_4 f_4 + \\lambda_6 f_6 + \\lambda_7 f_7$\n",
    "\n",
    "$F_2 = \\lambda_3 f_3 + \\lambda_8 f_8$\n",
    "\n",
    "$F_3 = \\lambda_2 f_2 + \\lambda_5 f_5$\n",
    "\n",
    "- E3: $\\mathbf{R}^3$ considering entropy criterion to select the algorithms with lower entropy\n",
    "\n",
    "$F_1 = \\lambda_4 f_4 $\n",
    "\n",
    "$F_2 = \\lambda_8 f_8$\n",
    "\n",
    "$F_3 = \\lambda_2 f_2$\n",
    "\n",
    "\n",
    "- E4: $\\mathbf{R}^6$ considering the reduction of the clustered functions \n",
    "\n",
    "$F_1 = \\lambda_3 f_3 + \\lambda_8 f_8$\n",
    "\n",
    "$F_2 = \\lambda_2 f_2 + \\lambda_5 f_5$\n",
    "\n",
    "$F_3 = \\lambda_1 f_1 $\n",
    "\n",
    "$F_4 = \\lambda_4 f_4$\n",
    "\n",
    "$F_5 = \\lambda_6 f_6$\n",
    "\n",
    "$F_6 = \\lambda_7 f_7$\n",
    "\n",
    "- Reading the experiments data"
   ]
  },
  {
   "cell_type": "code",
   "execution_count": 36,
   "metadata": {},
   "outputs": [],
   "source": [
    "E1 = pd.read_csv('E1/hv_values.txt',sep='\\t',header=None)\n",
    "E2 = pd.read_csv('E2/hv_values.txt',sep='\\t',header=None)\n",
    "E3 = pd.read_csv('E3/hv_values.txt',sep='\\t',header=None)\n",
    "E4 = pd.read_csv('E4/hv_values.txt',sep='\\t',header=None)"
   ]
  },
  {
   "cell_type": "markdown",
   "metadata": {},
   "source": [
    "## Plotting the boxplot for each hypervolume"
   ]
  },
  {
   "cell_type": "code",
   "execution_count": 39,
   "metadata": {},
   "outputs": [
    {
     "data": {
      "image/png": "[encoded data removed]",
      "text/plain": [
       "<Figure size 648x432 with 1 Axes>"
      ]
     },
     "metadata": {},
     "output_type": "display_data"
    }
   ],
   "source": [
    "df = pd.concat([E1,E2,E3,E4], axis=1)\n",
    "df.columns = 'E1 E2 E3 E4'.split()\n",
    "df.plot.box(figsize=(9,6))\n",
    "plt.show()"
   ]
  },
  {
   "cell_type": "code",
   "execution_count": null,
   "metadata": {},
   "outputs": [],
   "source": []
  }
 ],
 "metadata": {
  "kernelspec": {
   "display_name": "Python 3",
   "language": "python",
   "name": "python3"
  },
  "language_info": {
   "codemirror_mode": {
    "name": "ipython",
    "version": 3
   },
   "file_extension": ".py",
   "mimetype": "text/x-python",
   "name": "python",
   "nbconvert_exporter": "python",
   "pygments_lexer": "ipython3",
   "version": "3.4.3"
  }
 },
 "nbformat": 4,
 "nbformat_minor": 2
}
