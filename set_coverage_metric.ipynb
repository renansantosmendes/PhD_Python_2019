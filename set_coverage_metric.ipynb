{
 "cells": [
  {
   "cell_type": "markdown",
   "metadata": {},
   "source": [
    "# Set Coverage Metric - Python\n",
    "- Renan Santos Mendes - 18/03/2019"
   ]
  },
  {
   "cell_type": "code",
   "execution_count": 3,
   "metadata": {},
   "outputs": [],
   "source": [
    "import pandas as pd\n",
    "import numpy as np"
   ]
  },
  {
   "cell_type": "markdown",
   "metadata": {},
   "source": [
    "## Funções implementadas para cálculo da métrica de cobertura de conjuntos\n",
    "- A primeira função calcula de uma solução q domina outra solução p\n",
    "- A segunda função determina a porcentagem de um conjunto Y que é dominada pelas soluções do conjunto X"
   ]
  },
  {
   "cell_type": "code",
   "execution_count": 4,
   "metadata": {},
   "outputs": [],
   "source": [
    "def pareto(p,q):#p domina q? a resposta é um booleano\n",
    "    y = False\n",
    "    if sum(p >= q) == len(p):\n",
    "        if sum(p == q) != len(p):\n",
    "            y = True\n",
    "    return y\n",
    "\n",
    "def set_coverage_metric(X,Y):\n",
    "    p_is_dominated = 0\n",
    "    q_is_dominated = 0\n",
    "    X_bool = np.zeros(X.shape[0])\n",
    "    Y_bool = np.zeros(Y.shape[0])\n",
    "    \n",
    "    #q dominates p?\n",
    "    for p in range(Y.shape[0]):\n",
    "        p_ = Y[p]\n",
    "        for q in X:\n",
    "            if pareto(p_,q):\n",
    "                Y_bool[p] = 1\n",
    "                \n",
    "    #q dominates p?\n",
    "    for q in range(X.shape[0]):\n",
    "        q_ = X[q]\n",
    "        for p in Y:\n",
    "            if pareto(q_,p):\n",
    "                X_bool[q] = 1\n",
    "   \n",
    "    print('Returning C(A,B) and C(B,A)')\n",
    "    return sum(Y_bool)/len(Y), sum(X_bool)/len(X)"
   ]
  },
  {
   "cell_type": "code",
   "execution_count": 5,
   "metadata": {},
   "outputs": [],
   "source": [
    "# X = np.loadtxt('solutions_train.txt',delimiter=',')[:,0:]\n",
    "# print(X.shape[0])\n",
    "# print(type(X))"
   ]
  },
  {
   "cell_type": "markdown",
   "metadata": {},
   "source": [
    "### Teste na função pareto com dois arrays $p$ e $q$"
   ]
  },
  {
   "cell_type": "code",
   "execution_count": 6,
   "metadata": {},
   "outputs": [],
   "source": [
    "p = np.array([0,0,0])\n",
    "q = np.array([1,2,3])"
   ]
  },
  {
   "cell_type": "code",
   "execution_count": 8,
   "metadata": {},
   "outputs": [
    {
     "name": "stdout",
     "output_type": "stream",
     "text": [
      "False True\n"
     ]
    }
   ],
   "source": [
    "print(pareto(p,q), pareto(q,p))"
   ]
  },
  {
   "cell_type": "markdown",
   "metadata": {},
   "source": [
    "## Teste na função que calcula a métrica"
   ]
  },
  {
   "cell_type": "code",
   "execution_count": 76,
   "metadata": {},
   "outputs": [],
   "source": [
    "X = np.array([[0,0,0],[0,0,0],[1,1,1],[3,3,3]])\n",
    "Y = np.array([[1,2,3],[1,2,3],[1,0,1]])"
   ]
  },
  {
   "cell_type": "code",
   "execution_count": 77,
   "metadata": {},
   "outputs": [
    {
     "name": "stdout",
     "output_type": "stream",
     "text": [
      "Returning C(A,B) and C(B,A)\n"
     ]
    },
    {
     "data": {
      "text/plain": [
       "(1.0, 0.5)"
      ]
     },
     "execution_count": 77,
     "metadata": {},
     "output_type": "execute_result"
    }
   ],
   "source": [
    "set_coverage_metric(X,Y)"
   ]
  }
 ],
 "metadata": {
  "kernelspec": {
   "display_name": "Python 3",
   "language": "python",
   "name": "python3"
  },
  "language_info": {
   "codemirror_mode": {
    "name": "ipython",
    "version": 3
   },
   "file_extension": ".py",
   "mimetype": "text/x-python",
   "name": "python",
   "nbconvert_exporter": "python",
   "pygments_lexer": "ipython3",
   "version": "3.4.3"
  }
 },
 "nbformat": 4,
 "nbformat_minor": 2
}
