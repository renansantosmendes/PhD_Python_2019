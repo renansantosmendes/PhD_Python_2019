{
 "cells": [
  {
   "cell_type": "code",
   "execution_count": 1,
   "metadata": {},
   "outputs": [],
   "source": [
    "from optimization_metrics import set_coverage_metric as C\n",
    "import pandas as pd\n",
    "import numpy as np"
   ]
  },
  {
   "cell_type": "markdown",
   "metadata": {},
   "source": [
    "### Comparando conjuntos Pareto Combinato após 30 execuções\n",
    "- Redução para 2 Funções Objetivo"
   ]
  },
  {
   "cell_type": "code",
   "execution_count": 8,
   "metadata": {},
   "outputs": [
    {
     "name": "stdout",
     "output_type": "stream",
     "text": [
      "Returning C(A,B) and C(B,A)\n"
     ]
    },
    {
     "data": {
      "text/plain": [
       "(0.011210762331838564, 0.0)"
      ]
     },
     "execution_count": 8,
     "metadata": {},
     "output_type": "execute_result"
    }
   ],
   "source": [
    "file1 = 'nsga_pareto_final.csv'\n",
    "file2 = 'nsga_pareto_9fo_2fo.csv'\n",
    "\n",
    "data1 = pd.read_csv(file1, sep=',',header=None)\n",
    "data1.columns = 'F1 F2 F3 F4 F5 F6 F7 F8 F9'.split()\n",
    "\n",
    "data2 = pd.read_csv(file2, sep=',',header=None)\n",
    "data2.columns = 'F1 F2 F3 F4 F5 F6 F7 F8 F9'.split()\n",
    "\n",
    "X = data1.values\n",
    "Y = data2.values\n",
    "\n",
    "C(X,Y)"
   ]
  },
  {
   "cell_type": "markdown",
   "metadata": {},
   "source": [
    "### Comparando conjuntos Pareto Combinato após 30 execuções\n",
    "- Redução para 3 Funções Objetivo"
   ]
  },
  {
   "cell_type": "code",
   "execution_count": 6,
   "metadata": {},
   "outputs": [
    {
     "name": "stdout",
     "output_type": "stream",
     "text": [
      "Returning C(A,B) and C(B,A)\n"
     ]
    },
    {
     "data": {
      "text/plain": [
       "(0.061521252796420581, 0.0)"
      ]
     },
     "execution_count": 6,
     "metadata": {},
     "output_type": "execute_result"
    }
   ],
   "source": [
    "file1 = 'nsga_pareto_final.csv'\n",
    "file2 = 'nsga_pareto_9fo_3fo.csv'\n",
    "\n",
    "data1 = pd.read_csv(file1, sep=',',header=None)\n",
    "data1.columns = 'F1 F2 F3 F4 F5 F6 F7 F8 F9'.split()\n",
    "\n",
    "data2 = pd.read_csv(file2, sep=',',header=None)\n",
    "data2.columns = 'F1 F2 F3 F4 F5 F6 F7 F8 F9'.split()\n",
    "\n",
    "X = data1.values\n",
    "Y = data2.values\n",
    "\n",
    "\n",
    "C(X,Y)"
   ]
  },
  {
   "cell_type": "code",
   "execution_count": null,
   "metadata": {},
   "outputs": [],
   "source": []
  }
 ],
 "metadata": {
  "kernelspec": {
   "display_name": "Python 3",
   "language": "python",
   "name": "python3"
  },
  "language_info": {
   "codemirror_mode": {
    "name": "ipython",
    "version": 3
   },
   "file_extension": ".py",
   "mimetype": "text/x-python",
   "name": "python",
   "nbconvert_exporter": "python",
   "pygments_lexer": "ipython3",
   "version": "3.4.3"
  }
 },
 "nbformat": 4,
 "nbformat_minor": 2
}
