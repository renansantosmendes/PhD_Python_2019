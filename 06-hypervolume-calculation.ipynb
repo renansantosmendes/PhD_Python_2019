{
 "cells": [
  {
   "cell_type": "code",
   "execution_count": 1,
   "metadata": {},
   "outputs": [],
   "source": [
    "from pygmo import hypervolume\n",
    "import pygmo as pg\n",
    "import pandas as pd\n",
    "import numpy as np\n",
    "import matplotlib.pyplot as plt\n",
    "\n",
    "%matplotlib inline"
   ]
  },
  {
   "cell_type": "code",
   "execution_count": 2,
   "metadata": {},
   "outputs": [
    {
     "data": {
      "text/plain": [
       "True"
      ]
     },
     "execution_count": 2,
     "metadata": {},
     "output_type": "execute_result"
    }
   ],
   "source": [
    "'hypervolume' in dir()"
   ]
  },
  {
   "cell_type": "code",
   "execution_count": 3,
   "metadata": {},
   "outputs": [],
   "source": [
    "udp = pg.problem(pg.dtlz(prob_id = 2, dim = 10, fdim = 2))"
   ]
  },
  {
   "cell_type": "code",
   "execution_count": 4,
   "metadata": {},
   "outputs": [],
   "source": [
    "pop = pg.population(udp, 50)"
   ]
  },
  {
   "cell_type": "code",
   "execution_count": 5,
   "metadata": {},
   "outputs": [
    {
     "data": {
      "text/plain": [
       "<pygmo.core.hypervolume at 0x7f0aeb7d3ae8>"
      ]
     },
     "execution_count": 5,
     "metadata": {},
     "output_type": "execute_result"
    }
   ],
   "source": [
    "hv = hypervolume(pop)\n",
    "hv"
   ]
  },
  {
   "cell_type": "code",
   "execution_count": 6,
   "metadata": {},
   "outputs": [
    {
     "data": {
      "text/plain": [
       "20.0"
      ]
     },
     "execution_count": 6,
     "metadata": {},
     "output_type": "execute_result"
    }
   ],
   "source": [
    "ref_point = [2,2,2,2,2]\n",
    "hv = hypervolume([[1, 0, 0, 0, 1], [0, 1, 0, 0, 2],[0, 0, 1, 0, 0]] )\n",
    "hv.compute(ref_point)"
   ]
  },
  {
   "cell_type": "code",
   "execution_count": null,
   "metadata": {},
   "outputs": [],
   "source": []
  },
  {
   "cell_type": "code",
   "execution_count": 7,
   "metadata": {},
   "outputs": [],
   "source": [
    "def read_solutions(file):\n",
    "\n",
    "    points = []\n",
    "    with open(file) as file:\n",
    "        for line in file:\n",
    "            point = []\n",
    "            splitted_line = line.replace('\\n','').replace('[','').replace(']','').split(',')\n",
    "            try:\n",
    "                x = float(splitted_line[0])\n",
    "                y = float(splitted_line[1])\n",
    "                z = float(splitted_line[2])\n",
    "                w = float(splitted_line[3])\n",
    "                t = float(splitted_line[4])\n",
    "                point.append(x)\n",
    "                point.append(y)\n",
    "                point.append(z)\n",
    "                point.append(w)\n",
    "                point.append(t)\n",
    "                points.append(point)\n",
    "            except:\n",
    "                pass\n",
    "\n",
    "            \n",
    "            \n",
    "    return points"
   ]
  },
  {
   "cell_type": "code",
   "execution_count": 52,
   "metadata": {},
   "outputs": [],
   "source": [
    "evaluations = 220000\n",
    "executions = 30\n",
    "step = 5000\n",
    "start = 0\n",
    "problem = 'AggDTLZ5_2'\n",
    "ref_point = [3,3,3,3,3]\n",
    "path = '/home/renansantos/NetBeansProjects/PhD_MOEAD/Results/'\n",
    "file_path = path + 'AggDTLZ5-2' + '/'\n",
    "\n",
    "df1 = pd.DataFrame(data=None)\n",
    "\n",
    "for i in range(executions):\n",
    "#     print('execution ',i)\n",
    "    exec_hv = []\n",
    "    for j in np.arange(start,evaluations,step):\n",
    "        name = problem + '-' + str(i) + '-' + str(j) + '-solutions.csv'\n",
    "        solutions = read_solutions(file_path + name)\n",
    "        hv = hypervolume(solutions)\n",
    "        exec_hv.append(hv.compute(ref_point))\n",
    "    df1[i] = exec_hv"
   ]
  },
  {
   "cell_type": "code",
   "execution_count": 53,
   "metadata": {},
   "outputs": [
    {
     "data": {
      "text/plain": [
       "<matplotlib.axes._subplots.AxesSubplot at 0x7f0aeb319278>"
      ]
     },
     "execution_count": 53,
     "metadata": {},
     "output_type": "execute_result"
    },
    {
     "data": {
      "image/png": "[encoded data removed]",
      "text/plain": [
       "<Figure size 432x288 with 1 Axes>"
      ]
     },
     "metadata": {},
     "output_type": "display_data"
    }
   ],
   "source": [
    "df1.mean(axis=1).plot()"
   ]
  },
  {
   "cell_type": "code",
   "execution_count": 54,
   "metadata": {},
   "outputs": [],
   "source": [
    "evaluations = 220000\n",
    "executions = 30\n",
    "step = 5000\n",
    "start = 0\n",
    "problem = 'DTLZ5_5'\n",
    "ref_point = [3,3,3,3,3]\n",
    "path = '/home/renansantos/NetBeansProjects/PhD_MOEAD/Results/'\n",
    "file_path = path + 'DTLZ5-5' + '/'\n",
    "\n",
    "df2 = pd.DataFrame(data=None)\n",
    "\n",
    "for i in range(executions):\n",
    "#     print('execution ',i)\n",
    "    exec_hv = []\n",
    "    for j in np.arange(start,evaluations,step):\n",
    "        name = problem + '-' + str(i) + '-' + str(j) + '-solutions.csv'\n",
    "        solutions = read_solutions(file_path + name)\n",
    "        hv = hypervolume(solutions)\n",
    "        exec_hv.append(hv.compute(ref_point))\n",
    "    df2[i] = exec_hv"
   ]
  },
  {
   "cell_type": "code",
   "execution_count": 55,
   "metadata": {},
   "outputs": [
    {
     "data": {
      "text/plain": [
       "<matplotlib.axes._subplots.AxesSubplot at 0x7f0aeb375048>"
      ]
     },
     "execution_count": 55,
     "metadata": {},
     "output_type": "execute_result"
    },
    {
     "data": {
      "image/png": "[encoded data removed]",
      "text/plain": [
       "<Figure size 432x288 with 1 Axes>"
      ]
     },
     "metadata": {},
     "output_type": "display_data"
    }
   ],
   "source": [
    "df2.mean(axis=1).plot()"
   ]
  },
  {
   "cell_type": "code",
   "execution_count": 94,
   "metadata": {},
   "outputs": [
    {
     "data": {
      "image/png": "[encoded data removed]",
      "text/plain": [
       "<Figure size 576x432 with 1 Axes>"
      ]
     },
     "metadata": {},
     "output_type": "display_data"
    }
   ],
   "source": [
    "plt.figure(figsize=(8,6))\n",
    "plt.plot(df2.mean(axis=1), label='DTLZ5-5')\n",
    "plt.plot(df1.mean(axis=1), label='AggDTLZ5-5')\n",
    "plt.yticks(fontsize=15)\n",
    "plt.xticks(fontsize=15)\n",
    "plt.legend(fontsize = 'large')\n",
    "plt.show()"
   ]
  },
  {
   "cell_type": "code",
   "execution_count": 85,
   "metadata": {},
   "outputs": [
    {
     "data": {
      "image/png": "[encoded data removed]",
      "text/plain": [
       "<Figure size 576x432 with 1 Axes>"
      ]
     },
     "metadata": {},
     "output_type": "display_data"
    }
   ],
   "source": [
    "plt.figure(figsize=(8,6))\n",
    "plt.boxplot([df1.loc[43],df2.loc[43]])\n",
    "plt.xticks([1, 2], ['AggDTLZ5-5', 'DTLZ5-5'],fontsize=15)\n",
    "plt.yticks(fontsize=15)\n",
    "plt.show()"
   ]
  },
  {
   "cell_type": "markdown",
   "metadata": {},
   "source": [
    "### First implementation of Wilcoxon Test"
   ]
  },
  {
   "cell_type": "code",
   "execution_count": 75,
   "metadata": {},
   "outputs": [],
   "source": [
    "last_hv = df1.shape[0] - 1\n",
    "ndf1 = df1.loc[last_hv].values\n",
    "ndf2 = df2.loc[last_hv].values\n",
    "diff = ndf2 - ndf1\n",
    "rank = [i + 1 for i in range(len(diff))]"
   ]
  },
  {
   "cell_type": "code",
   "execution_count": 79,
   "metadata": {},
   "outputs": [],
   "source": [
    "wilcoxon = pd.DataFrame(data = [sorted(diff), rank]).T\n",
    "wilcoxon.columns = 'Diff Rank'.split()"
   ]
  },
  {
   "cell_type": "code",
   "execution_count": 82,
   "metadata": {},
   "outputs": [
    {
     "data": {
      "text/plain": [
       "465.0"
      ]
     },
     "execution_count": 82,
     "metadata": {},
     "output_type": "execute_result"
    }
   ],
   "source": [
    "wilcoxon[wilcoxon['Diff'] > 0]['Rank'].sum()"
   ]
  },
  {
   "cell_type": "code",
   "execution_count": 47,
   "metadata": {},
   "outputs": [
    {
     "data": {
      "text/plain": [
       "2.302585092994046"
      ]
     },
     "execution_count": 47,
     "metadata": {},
     "output_type": "execute_result"
    }
   ],
   "source": [
    "np.lo"
   ]
  },
  {
   "cell_type": "code",
   "execution_count": 92,
   "metadata": {},
   "outputs": [],
   "source": [
    "def get_hv(file_name):\n",
    "    with open(file_name) as file:\n",
    "        hv = []\n",
    "        \n",
    "        for line in file:\n",
    "            hv.append(float(line))\n",
    "            \n",
    "    return pd.DataFrame(data=hv, columns=['HV'])\n",
    "\n",
    "def random_test(df1, df2, plot_hist = True):\n",
    "    DORAND = 10000\n",
    "    \n",
    "    spread2 = df2.values\n",
    "    spread1 = df1.values\n",
    "    \n",
    "    medianSpreadDiff = np.median(spread2) - np.median(spread1)\n",
    "    meanSpreadDiff = np.mean(spread2) - np.mean(spread1)\n",
    "    \n",
    "    totalSpread = np.append(spread1.tolist(), spread2.tolist())\n",
    "    \n",
    "    randMedianSpreadDiff = np.nan * np.ones((DORAND,1))\n",
    "    randMeanSpreadDiff = np.nan * np.ones((DORAND,1))\n",
    "    \n",
    "    for randPool in range(0, DORAND-1):\n",
    "        new1Index = np.random.permutation(30)\n",
    "        newSpread1 = totalSpread[new1Index[0:15]]\n",
    "        newSpread2 = totalSpread[new1Index[15:30]]\n",
    "        \n",
    "        randMedianSpreadDiff[randPool] = np.median(newSpread2) - np.median(newSpread1)\n",
    "        randMeanSpreadDiff[randPool] = np.mean(newSpread2) - np.mean(newSpread1)\n",
    "        \n",
    "    randMedianSpreadDiff[DORAND - 1] = medianSpreadDiff\n",
    "    randMeanSpreadDiff[DORAND - 1] = meanSpreadDiff\n",
    "    \n",
    "    z = (meanSpreadDiff - np.mean(randMeanSpreadDiff) )/ np.std(randMeanSpreadDiff)\n",
    "        \n",
    "    limiar = 1.96 * np.std(randMeanSpreadDiff) + np.mean(randMeanSpreadDiff)\n",
    "    \n",
    "    if z <= -1.96:\n",
    "        print('H1-')\n",
    "    elif z >= 1.96:\n",
    "        print('H1+')\n",
    "    else:\n",
    "        print('H0')\n",
    "    print('Limiar =',limiar)\n",
    "    print('z =',z)\n",
    "    print('Mean Spread Diff',meanSpreadDiff)\n",
    "    if plot_hist:\n",
    "        plt.figure(figsize=(10,6))\n",
    "        plt.hist(randMeanSpreadDiff,bins=100,color='gray', label='Distribution')\n",
    "        plt.scatter(x=meanSpreadDiff,y=0,color='red',s=100,label='Observed Mean Difference')\n",
    "        plt.scatter(x=limiar,y=0,color='black',s=100,label='Confidence Limiars (95%)')\n",
    "        plt.scatter(x=-limiar,y=0,color='black',s=100,)\n",
    "        plt.xticks(fontsize=(13))\n",
    "        plt.yticks(fontsize=(18))\n",
    "        plt.legend(fontsize = 'large')\n",
    "        plt.show()"
   ]
  },
  {
   "cell_type": "code",
   "execution_count": 93,
   "metadata": {},
   "outputs": [
    {
     "name": "stdout",
     "output_type": "stream",
     "text": [
      "H0\n",
      "Limiar = 3.93321615567906e-06\n",
      "z = 0.0020214226432436716\n",
      "Mean Spread Diff 0.0\n"
     ]
    },
    {
     "data": {
      "image/png": "[encoded data removed]",
      "text/plain": [
       "<Figure size 720x432 with 1 Axes>"
      ]
     },
     "metadata": {},
     "output_type": "display_data"
    }
   ],
   "source": [
    "random_test(df1.loc[43], df1.loc[43], True)"
   ]
  },
  {
   "cell_type": "code",
   "execution_count": null,
   "metadata": {},
   "outputs": [],
   "source": []
  }
 ],
 "metadata": {
  "kernelspec": {
   "display_name": "Python 3",
   "language": "python",
   "name": "python3"
  },
  "language_info": {
   "codemirror_mode": {
    "name": "ipython",
    "version": 3
   },
   "file_extension": ".py",
   "mimetype": "text/x-python",
   "name": "python",
   "nbconvert_exporter": "python",
   "pygments_lexer": "ipython3",
   "version": "3.4.3"
  }
 },
 "nbformat": 4,
 "nbformat_minor": 2
}
